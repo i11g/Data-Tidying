


import pandas as pd
import numpy as np
import matplotlib.pyplot as plt 











coffe_index = pd.read_csv("data/merged_data_cleaned.csv", index_col=0)


coffe_index











coffe_index = coffe_index.rename(columns = lambda col: col.replace(".", "_"))


coffe_index


pd.set_option('display.max_columns', None)


print(coffe_index)





coffe_index.Bag_Weight


coffe_index.Bag_Weight.dtype


coffe_index.Bag_Weight.value_counts()








# Normalize casing and spaces 
coffe_index["Bag_Weight"] = coffe_index["Bag_Weight"].str.lower().str.replace(",", " ").str.strip()


coffe_index["Bag_Weight"]


# Extract weight
coffe_index["Bag_Weight_num"] = coffe_index["Bag_Weight"].str.extract(r'(\d+\.?\d*)')[0].astype(float)


coffe_index["Bag_Weight_num"]


# Extract the unit
coffe_index["Bag_Weight_unit"] =  coffe_index["Bag_Weight"].str.extract(r'\d+\.?\d*\s*([a-z]*)')[0]


# Convert the lbs to kg 
coffe_index["Weight_kg"] = np.where(
    coffe_index["Bag_Weight_unit"].isin(['lb', 'lbs']),
    coffe_index["Bag_Weight_num"]* 0.453592,
    coffe_index["Bag_Weight_num"]
)


coffe_index["Bag_Weight"]


print(coffe_index)





coffe_index.Harvest_Year.value_counts()





coffe_index.Country_of_Origin.isna()


coffe_index.Country_of_Origin.isna().value_counts()


coffe_index.Country_of_Origin.value_counts()








coffe_index.Owner.value_counts()


coffe_index.Owner_1.value_counts()


# Compare the two columns 
# First we will make the text in the two columns lowercase and strip whitespace for comparision
coffe_index["Owner_clean"]= coffe_index["Owner"].str.lower().str.strip()
coffe_index["Owner_1_clean"]= coffe_index["Owner_1"].str.lower().str.strip()


coffe_index.Owner_clean.value_counts() 


coffe_index.Owner_1_clean.value_counts()


# Compare the clean columns
coffe_index["compare"] = coffe_index["Owner_clean"] == coffe_index["Owner_1_clean"]


# See in how many values differ
coffe_index["compare"].value_counts()


# List the rows which differ
differences = coffe_index[coffe_index["compare"] == False][["Owner_clean", "Owner_1_clean"]]


differences





owner_set = set(coffe_index['Owner_clean'].dropna().unique())
owner1_set = set(coffe_index['Owner_1_clean'].dropna().unique())

only_in_owner = owner_set - owner1_set
only_in_owner1 = owner1_set - owner_set


only_in_owner


only_in_owner1


coffe_index.Producer.value_counts()





coffe_index["Producer_clean"]= coffe_index["Producer"].str.lower().str.strip()


# Compare the two
coffe_index["Relation"] = coffe_index["Producer_clean"] == coffe_index["Owner_clean"]


coffe_index.Relation.value_counts()


coffe_index[coffe_index["Relation"]]





coffe_index.Color.value_counts()


pd.pivot_table(





coffe_index.Aroma.value_counts()


coffe_index.Flavor.value_counts()


coffe_index.Moisture.value_counts()





coffe_index.Altitude.value_counts()


coffe_index.Region.value_counts()






