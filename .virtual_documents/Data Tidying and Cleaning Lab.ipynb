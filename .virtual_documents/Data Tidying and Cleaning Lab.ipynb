import pandas as pd
import numpy as np
import matplotlib.pyplot as plt 











coffe_index = pd.read_csv("data/merged_data_cleaned.csv")


coffe_index











coffe_index = coffe_index.rename(columns = lambda col: col.replace(".", "_"))


coffe_index





coffe_index.Bag_Weight.value_counts()





coffe_index.Harvest_Year.value_counts()




































