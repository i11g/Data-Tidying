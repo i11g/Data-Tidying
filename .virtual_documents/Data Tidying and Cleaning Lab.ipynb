


import pandas as pd
import numpy as np
import matplotlib.pyplot as plt 











coffe_index = pd.read_csv("data/merged_data_cleaned.csv", index_col=0)


coffe_index











coffe_index.columns


# Use a function to convert the column names to lower case and snake_case

coffe_index = coffe_index.rename(columns = lambda col: col.lower().replace(".", "_"))


coffe_index.columns


pd.set_option('display.max_columns', None)


print(coffe_index)





coffe_index.bag_weight


coffe_index.bag_weight.dtype


coffe_index.bag_weight.value_counts()








# 1. Normalize casting and spaces 

coffe_index["bag_weight"] = coffe_index["bag_weight"].str.lower().str.replace(",", " ").str.strip()


coffe_index["bag_weight"]


# 2. Extract weight
# We want to see what is the clear weight of each observation. To do this we will extract the weight
# as a float. The extracted weight we will keep in a new feature column - bag_weight_num.

coffe_index["bag_weight_num"] = coffe_index["bag_weight"].str.extract(r'(\d+\.?\d*)')[0].astype(float)


coffe_index["bag_weight_num"]


# 3.Extract the unit

# As a next step we will extract the unit from the bag_weight column and store it in a new columng bag_weight_unit

coffe_index["bag_weight_unit"] =  coffe_index["bag_weight"].str.extract(r'\d+\.?\d*\s*([a-z]*)')[0]


# 4.Convert the lbs to kg
# Ou analysis shows that 90 % of the units are in kg. Taking this into account and according to the data
# in internet for the measurement of coffe bags, we decide to convert all lb and lbs(they both means pounds)
# to kilograms.

coffe_index["bag_weight_kg"] = np.where(
    coffe_index["bag_weight_unit"].isin(['lb', 'lbs']),
    coffe_index["bag_weight_num"]* 0.453592,
    coffe_index["bag_weight_num"]
)


coffe_index["bag_weight"]


# Delete the repeating and doubling columns


print(coffe_index)





coffe_index.harvest_year.value_counts(dropna=False)


coffe_index.columns


coffe_index.expiration


coffe_index.expiration.value_counts(dropna=False)


coffe_index.grading_date.value_counts(dropna=False)





coffe_index.country_of_origin.value_counts()


coffe_index.country_of_origin.value_counts(dropna=False)


coffe_index.country_of_origin.isna()


coffe_index.country_of_origin.isna().value_counts()


unknown_countries = coffe_index[coffe_index["country_of_origin"].isna()]


unknown_countries





coffe_index[coffe_index["owner"] == "racafe & cia s.c.a"]








coffe_index.owner.value_counts()


coffe_index.owner.info()


coffe_index.owner_1.value_counts()


# Compare the two columns 
# First we will make the text in the two columns lowercase and strip whitespace for comparision
coffe_index["owner_clean"]= coffe_index["owner"].str.lower().str.strip()
coffe_index["owner_1_clean"]= coffe_index["owner_1"].str.lower().str.strip()


coffe_index.owner_clean.value_counts() 


coffe_index.owner_1_clean.value_counts()


# Compare the clean columns
coffe_index["compare"] = coffe_index["owner_clean"] == coffe_index["owner_1_clean"]


# See in how many values differ
coffe_index["compare"].value_counts()


# List the rows which differ
differences = coffe_index[coffe_index["compare"] == False][["owner_clean", "owner_1_clean"]]


differences





owner_set = set(coffe_index['owner_clean'].dropna().unique())
owner1_set = set(coffe_index['owner_1_clean'].dropna().unique())

only_in_owner = owner_set - owner1_set
only_in_owner1 = owner1_set - owner_set


only_in_owner


only_in_owner1


coffe_index.Producer.value_counts()





coffe_index["producer_clean"]= coffe_index["producer"].str.lower().str.strip()


# Compare the two
coffe_index["relation"] = coffe_index["producer_clean"] == coffe_index["owner_clean"]


coffe_index.relation.value_counts()


coffe_index[coffe_index["relation"]]





coffe_index.color.value_counts()


coffe_index_p = coffe_index.pivot_table(index = "country_of_origin", columns = "color", values = "species", 
                                            aggfunc = "count")


coffe_index_p.reset_index()


coffe_index_p.columns.name=None





coffe_index.aroma.value_counts()


coffe_index.flavor.value_counts()


coffe_index.moisture.value_counts()





coffe_index.altitude.value_counts()


coffe_index.region.value_counts()


coffe_index.company






